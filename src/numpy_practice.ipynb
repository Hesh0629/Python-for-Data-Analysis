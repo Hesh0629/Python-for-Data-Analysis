{
 "cells": [
  {
   "cell_type": "code",
   "execution_count": 2,
   "id": "35e5fa93",
   "metadata": {},
   "outputs": [],
   "source": [
    "import numpy as np"
   ]
  },
  {
   "cell_type": "code",
   "execution_count": 5,
   "id": "2ba4a2cd",
   "metadata": {},
   "outputs": [],
   "source": [
    "arr=np.arange(1000000);\n",
    "lst=list(range(1000000));"
   ]
  },
  {
   "cell_type": "code",
   "execution_count": 8,
   "id": "d508e065",
   "metadata": {},
   "outputs": [
    {
     "name": "stdout",
     "output_type": "stream",
     "text": [
      "Wall time: 26.9 ms\n"
     ]
    }
   ],
   "source": [
    "%time for _ in range(10): arr2=arr*2 #numpy is fater than python basic method"
   ]
  },
  {
   "cell_type": "code",
   "execution_count": 10,
   "id": "d76f9ce0",
   "metadata": {},
   "outputs": [
    {
     "name": "stdout",
     "output_type": "stream",
     "text": [
      "Wall time: 240 ms\n"
     ]
    }
   ],
   "source": [
    "%time for _ in range(10): lst2=lst*2"
   ]
  },
  {
   "cell_type": "code",
   "execution_count": 17,
   "id": "208ccfd2",
   "metadata": {},
   "outputs": [
    {
     "data": {
      "text/plain": [
       "array([[ 1.6485166 , -1.23371065,  0.54029991],\n",
       "       [-0.08195165, -0.0168991 , -0.14819007]])"
      ]
     },
     "execution_count": 17,
     "metadata": {},
     "output_type": "execute_result"
    }
   ],
   "source": [
    "data = np.random.randn(2,3)\n",
    "data"
   ]
  },
  {
   "cell_type": "code",
   "execution_count": 19,
   "id": "a4e79539",
   "metadata": {},
   "outputs": [
    {
     "data": {
      "text/plain": [
       "array([[ 3.2970332 , -2.46742129,  1.08059983],\n",
       "       [-0.1639033 , -0.0337982 , -0.29638015]])"
      ]
     },
     "execution_count": 19,
     "metadata": {},
     "output_type": "execute_result"
    }
   ],
   "source": [
    "data * 2"
   ]
  },
  {
   "cell_type": "code",
   "execution_count": 23,
   "id": "e069de98",
   "metadata": {},
   "outputs": [
    {
     "name": "stdout",
     "output_type": "stream",
     "text": [
      "(2, 3) float64\n"
     ]
    }
   ],
   "source": [
    "print(data.shape,data.dtype) # shape, dtype is property, not function"
   ]
  },
  {
   "cell_type": "code",
   "execution_count": 25,
   "id": "f697fd2e",
   "metadata": {},
   "outputs": [
    {
     "data": {
      "text/plain": [
       "array([6. , 7.5, 8. , 0. , 1. ])"
      ]
     },
     "execution_count": 25,
     "metadata": {},
     "output_type": "execute_result"
    }
   ],
   "source": [
    "data1=[6,7.5,8,0,1]\n",
    "arr1=np.array(data1)\n",
    "arr1"
   ]
  },
  {
   "cell_type": "code",
   "execution_count": 27,
   "id": "dc73d272",
   "metadata": {},
   "outputs": [
    {
     "data": {
      "text/plain": [
       "array([[1, 2, 3, 4],\n",
       "       [5, 6, 7, 8]])"
      ]
     },
     "execution_count": 27,
     "metadata": {},
     "output_type": "execute_result"
    }
   ],
   "source": [
    "data2=[[1,2,3,4],[5,6,7,8]]\n",
    "arr2=np.array(data2)\n",
    "arr2"
   ]
  },
  {
   "cell_type": "code",
   "execution_count": 29,
   "id": "168a5ab0",
   "metadata": {},
   "outputs": [
    {
     "name": "stdout",
     "output_type": "stream",
     "text": [
      "2 (2, 4)\n"
     ]
    }
   ],
   "source": [
    "print(arr2.ndim,arr2.shape)"
   ]
  },
  {
   "cell_type": "code",
   "execution_count": 37,
   "id": "9b01516b",
   "metadata": {},
   "outputs": [
    {
     "name": "stdout",
     "output_type": "stream",
     "text": [
      "[0 1 2 3 4 5 6 7 8 9]\n",
      "[4 5 6]\n",
      "[   0    1    2    3 1000    5    6    7    8    9]\n"
     ]
    }
   ],
   "source": [
    "arr3=np.arange(10)\n",
    "print(arr3)\n",
    "arr4=arr3[4:7]\n",
    "print(arr4)\n",
    "arr4[0]=1000\n",
    "print(arr3) #슬라이싱을 하면 값이 복사가 되는게 아니다. (그랬다간 메모리가 박살)"
   ]
  },
  {
   "cell_type": "code",
   "execution_count": 39,
   "id": "f70cf6dd",
   "metadata": {},
   "outputs": [
    {
     "data": {
      "text/plain": [
       "array([1000,    5,    6,    7,    8,    9])"
      ]
     },
     "execution_count": 39,
     "metadata": {},
     "output_type": "execute_result"
    }
   ],
   "source": [
    "arr3[arr3>4]"
   ]
  },
  {
   "cell_type": "code",
   "execution_count": 53,
   "id": "b1ff8a76",
   "metadata": {},
   "outputs": [
    {
     "name": "stdout",
     "output_type": "stream",
     "text": [
      "original \n",
      "  [[ 0  1  2  3]\n",
      " [ 4  5  6  7]\n",
      " [ 8  9 10 11]\n",
      " [12 13 14 15]\n",
      " [16 17 18 19]\n",
      " [20 21 22 23]\n",
      " [24 25 26 27]\n",
      " [28 29 30 31]] \n",
      "\n",
      "\n",
      "fancyindexing \n",
      "  [[ 4  5  6  7]\n",
      " [20 21 22 23]\n",
      " [28 29 30 31]\n",
      " [ 8  9 10 11]] \n",
      "\n",
      "\n",
      "multi dimension indexing \n",
      " [ 4 23 29 10] \n",
      "\n",
      "\n",
      "[[ 4  7  5  6]\n",
      " [20 23 21 22]\n",
      " [28 31 29 30]\n",
      " [ 8 11  9 10]]\n"
     ]
    }
   ],
   "source": [
    "arr5=np.arange(32).reshape((8,4))\n",
    "print(\"original \\n \", arr5, '\\n\\n')\n",
    "print(\"fancyindexing \\n \",arr5[[1,5,7,2]], '\\n\\n')\n",
    "print(\"multi dimension indexing \\n\", arr5[[1,5,7,2],[0,3,1,2]], '\\n\\n')\n",
    "print(arr5[[1,5,7,2]][:,[0,3,1,2]])"
   ]
  },
  {
   "cell_type": "code",
   "execution_count": 61,
   "id": "7c100152",
   "metadata": {},
   "outputs": [
    {
     "name": "stdout",
     "output_type": "stream",
     "text": [
      "[[ 0  1  2  3  4  5]\n",
      " [ 6  7  8  9 10 11]\n",
      " [12 13 14 15 16 17]] \n",
      "\n",
      " [[ 0  6 12]\n",
      " [ 1  7 13]\n",
      " [ 2  8 14]\n",
      " [ 3  9 15]\n",
      " [ 4 10 16]\n",
      " [ 5 11 17]] \n",
      "\n",
      "\n",
      "[[  55  145  235]\n",
      " [ 145  451  757]\n",
      " [ 235  757 1279]]\n"
     ]
    }
   ],
   "source": [
    "arrOrig=np.arange(18).reshape(3,6)\n",
    "print(arrOrig, '\\n\\n',arrOrig.T,'\\n\\n')\n",
    "print(np.dot(arrOrig,arrOrig.T))"
   ]
  },
  {
   "cell_type": "code",
   "execution_count": 63,
   "id": "9f237150",
   "metadata": {},
   "outputs": [
    {
     "name": "stdout",
     "output_type": "stream",
     "text": [
      "[0 1 2 3 4 5 6 7 8 9]\n",
      "[0.         1.         1.41421356 1.73205081 2.         2.23606798\n",
      " 2.44948974 2.64575131 2.82842712 3.        ]\n",
      "[1.00000000e+00 2.71828183e+00 7.38905610e+00 2.00855369e+01\n",
      " 5.45981500e+01 1.48413159e+02 4.03428793e+02 1.09663316e+03\n",
      " 2.98095799e+03 8.10308393e+03]\n"
     ]
    }
   ],
   "source": [
    "# 단항 ufunc (ndarray에 있는 원소들에 대해 연산 수행)\n",
    "arr = np.arange(10)\n",
    "print(arr);\n",
    "print(np.sqrt(arr));\n",
    "print(np.exp(arr));"
   ]
  },
  {
   "cell_type": "code",
   "execution_count": 68,
   "id": "cc34188e",
   "metadata": {},
   "outputs": [
    {
     "name": "stdout",
     "output_type": "stream",
     "text": [
      "x is  [-0.0964199   1.16229014 -0.64533831  0.17412816 -1.79473889 -0.02361748\n",
      " -0.41527345  0.54596283] \n",
      "\n",
      "\n",
      "y is  [ 0.43932476  1.16225012  1.99017953  1.72929691 -2.11279349 -0.12511614\n",
      "  0.15805452  1.91935345] \n",
      "\n",
      "\n",
      "[ 0.43932476  1.16229014  1.99017953  1.72929691 -1.79473889 -0.02361748\n",
      "  0.15805452  1.91935345] \n",
      "\n",
      "\n",
      "[-0.4820995   0.81145071 -0.22669153  0.87064082 -0.97369447 -0.11808741\n",
      " -0.07636725  0.72981415]\n",
      "[-0.  5. -3.  0. -8. -0. -2.  2.]\n"
     ]
    }
   ],
   "source": [
    "#다항 ufunc\n",
    "x=np.random.randn(8)\n",
    "y=np.random.randn(8)\n",
    "print(\"x is \",x,'\\n\\n')\n",
    "print(\"y is \",y,'\\n\\n')\n",
    "print(np.maximum(x,y),'\\n\\n')\n",
    "\n",
    "#modf는 분수를 받아서 반환 값이 나머지와 몫으로 2개가 나옴\n",
    "arr=x*5\n",
    "remainder,whole_part=np.modf(arr)\n",
    "print(remainder)\n",
    "print(whole_part)"
   ]
  },
  {
   "cell_type": "code",
   "execution_count": 3,
   "id": "acff56eb",
   "metadata": {},
   "outputs": [
    {
     "name": "stdout",
     "output_type": "stream",
     "text": [
      "[[-5.   -4.99 -4.98 ...  4.97  4.98  4.99]\n",
      " [-5.   -4.99 -4.98 ...  4.97  4.98  4.99]\n",
      " [-5.   -4.99 -4.98 ...  4.97  4.98  4.99]\n",
      " ...\n",
      " [-5.   -4.99 -4.98 ...  4.97  4.98  4.99]\n",
      " [-5.   -4.99 -4.98 ...  4.97  4.98  4.99]\n",
      " [-5.   -4.99 -4.98 ...  4.97  4.98  4.99]]\n",
      "[[7.07106781 7.06400028 7.05693985 ... 7.04988652 7.05693985 7.06400028]\n",
      " [7.06400028 7.05692568 7.04985815 ... 7.04279774 7.04985815 7.05692568]\n",
      " [7.05693985 7.04985815 7.04278354 ... 7.03571603 7.04278354 7.04985815]\n",
      " ...\n",
      " [7.04988652 7.04279774 7.03571603 ... 7.0286414  7.03571603 7.04279774]\n",
      " [7.05693985 7.04985815 7.04278354 ... 7.03571603 7.04278354 7.04985815]\n",
      " [7.06400028 7.05692568 7.04985815 ... 7.04279774 7.04985815 7.05692568]] \n",
      "\n",
      "\n"
     ]
    },
    {
     "data": {
      "text/plain": [
       "Text(0.5, 1.0, 'Image plot of $\\\\sqrt{x^2 + y^2}$ for a grid of values')"
      ]
     },
     "execution_count": 3,
     "metadata": {},
     "output_type": "execute_result"
    },
    {
     "data": {
      "image/png": "[encoded data removed]",
      "text/plain": [
       "<Figure size 432x288 with 2 Axes>"
      ]
     },
     "metadata": {
      "needs_background": "light"
     },
     "output_type": "display_data"
    }
   ],
   "source": [
    "points = np.arange(-5,5,0.01)\n",
    "xs,ys=np.meshgrid(points,points) # 가능한 모든 (x,y)쌍을 만들 수 있는 배열 2개 return\n",
    "print(xs)\n",
    "z=np.sqrt(xs**2+ys**2)\n",
    "print(z,'\\n\\n')\n",
    "import matplotlib.pyplot as plt\n",
    "plt.imshow(z,cmap=plt.cm.gray);\n",
    "plt.colorbar()\n",
    "plt.title(\"Image plot of $\\sqrt{x^2 + y^2}$ for a grid of values\")"
   ]
  },
  {
   "cell_type": "code",
   "execution_count": 79,
   "id": "e2a02bf1",
   "metadata": {},
   "outputs": [
    {
     "name": "stdout",
     "output_type": "stream",
     "text": [
      "[1.1, 2.2, 1.3000000000000003, 1.4000000000000004, 2.5000000000000004]\n",
      "[1.1 2.2 1.3 1.4 2.5]\n"
     ]
    }
   ],
   "source": [
    "xarr = np.arange(1.1,1.6,0.1)\n",
    "yarr = np.arange(2.1,2.6,0.1)\n",
    "cond = np.array([True,False,True,True,False])\n",
    "result1 = [(x if c else y) for x, y, c in zip(xarr,yarr,cond)]\n",
    "print(result1)\n",
    "result2 = np.where(cond,xarr, yarr) #위 아래 코드는 동일. cond가 True이면 xarr이, False면 yarr\n",
    "print(result2)"
   ]
  },
  {
   "cell_type": "code",
   "execution_count": 84,
   "id": "359f3305",
   "metadata": {},
   "outputs": [
    {
     "data": {
      "text/plain": [
       "array([ 6, 15, 24])"
      ]
     },
     "execution_count": 84,
     "metadata": {},
     "output_type": "execute_result"
    }
   ],
   "source": [
    "arr=np.array([[1,2,3],[4,5,6],[7,8,9]])\n",
    "arr.sum(axis=1) #axis 0 == col을 따라 연산, axis 1 = row를 따라 연산"
   ]
  },
  {
   "cell_type": "code",
   "execution_count": 86,
   "id": "7c2b2150",
   "metadata": {},
   "outputs": [],
   "source": [
    "arr = np.arange(10)\n",
    "np.save('some_array',arr)"
   ]
  },
  {
   "cell_type": "code",
   "execution_count": 88,
   "id": "54beb6eb",
   "metadata": {},
   "outputs": [
    {
     "data": {
      "text/plain": [
       "array([0, 1, 2, 3, 4, 5, 6, 7, 8, 9])"
      ]
     },
     "execution_count": 88,
     "metadata": {},
     "output_type": "execute_result"
    }
   ],
   "source": [
    "np.load('some_array.npy')"
   ]
  },
  {
   "cell_type": "code",
   "execution_count": 91,
   "id": "26731c25",
   "metadata": {},
   "outputs": [
    {
     "name": "stdout",
     "output_type": "stream",
     "text": [
      "[ 6. 15.]\n",
      "[ 6. 15.]\n"
     ]
    }
   ],
   "source": [
    "# 행렬의 dot 곱 연산\n",
    "x=np.array([[1,2,3],[4,5,6]]);\n",
    "print(np.dot(x,np.ones(3)))\n",
    "print(x @ np.ones(3))"
   ]
  },
  {
   "cell_type": "code",
   "execution_count": 101,
   "id": "e80a4201",
   "metadata": {},
   "outputs": [
    {
     "data": {
      "text/plain": [
       "array([ 0.47143516, -1.19097569,  1.43270697, -0.3126519 , -0.72058873,\n",
       "        0.88716294,  0.85958841, -0.6365235 ,  0.01569637, -2.24268495])"
      ]
     },
     "execution_count": 101,
     "metadata": {},
     "output_type": "execute_result"
    }
   ],
   "source": [
    "#외부의 영향을 안받는 난수 생성기 제작\n",
    "rng=np.random.RandomState(1234)\n",
    "rng.randn(10)"
   ]
  },
  {
   "cell_type": "code",
   "execution_count": 109,
   "id": "5887d873",
   "metadata": {},
   "outputs": [],
   "source": [
    "import random\n",
    "position = 0\n",
    "walk = [position]\n",
    "steps = 1000\n",
    "for i in range(steps):\n",
    "    step = 1 if random.randint(0,1) else -1\n",
    "    position += step\n",
    "    walk.append(position)"
   ]
  },
  {
   "cell_type": "code",
   "execution_count": 111,
   "id": "9c1907cd",
   "metadata": {},
   "outputs": [
    {
     "data": {
      "text/plain": [
       "[<matplotlib.lines.Line2D at 0x2165d9a2910>]"
      ]
     },
     "execution_count": 111,
     "metadata": {},
     "output_type": "execute_result"
    },
    {
     "data": {
      "image/png": "[encoded data removed]",
      "text/plain": [
       "<Figure size 432x288 with 1 Axes>"
      ]
     },
     "metadata": {
      "needs_background": "light"
     },
     "output_type": "display_data"
    }
   ],
   "source": [
    "plt.plot(walk[:100])"
   ]
  },
  {
   "cell_type": "code",
   "execution_count": 121,
   "id": "847dbca7",
   "metadata": {},
   "outputs": [
    {
     "name": "stdout",
     "output_type": "stream",
     "text": [
      "-37\n",
      "13\n",
      "23\n"
     ]
    }
   ],
   "source": [
    "nsteps = 1000\n",
    "draws = np.random.randint(0,2,size=nsteps)\n",
    "steps = np.where(draws>0,1,-1)\n",
    "walk = steps.cumsum()\n",
    "print(walk.min())\n",
    "print(walk.max())\n",
    "print((np.abs(walk)>=10).argmax()) # 처음으로 시작점으로 부터 10칸 이상 멀어지는 지점의 index"
   ]
  },
  {
   "cell_type": "code",
   "execution_count": 131,
   "id": "41f3cbb3",
   "metadata": {},
   "outputs": [
    {
     "name": "stdout",
     "output_type": "stream",
     "text": [
      "[[ -1  -2  -3 ... -12 -11 -12]\n",
      " [ -1   0   1 ...  26  25  24]\n",
      " [ -1   0   1 ...  42  43  42]\n",
      " ...\n",
      " [ -1   0  -1 ... -58 -59 -58]\n",
      " [  1   2   1 ... -18 -17 -18]\n",
      " [  1   2   3 ...  60  59  60]]\n",
      "-119\n",
      "116\n",
      "[False  True  True ...  True False  True]\n",
      "3349\n",
      "[281 599 409 ... 253 369 573]\n"
     ]
    }
   ],
   "source": [
    "nwalks = 5000\n",
    "nsteps = 1000\n",
    "draws = np.random.randint(0,2,size=(nwalks,nsteps))\n",
    "steps = np.where(draws>0,1,-1)\n",
    "walks = steps.cumsum(1)\n",
    "print(walks)\n",
    "print(walks.min())\n",
    "print(walks.max())\n",
    "hits30 = (np.abs(walks)>=30).any(1) # 처음으로 시작점으로 부터 30칸 넘게되면 True 아니면 False\n",
    "print(hits30)\n",
    "print(hits30.sum())\n",
    "print((np.abs(walks[hits30])>=30).argmax(1)) # 각 시행에 대하여 처음으로 30넘는 위치의 index"
   ]
  }
 ],
 "metadata": {
  "kernelspec": {
   "display_name": "Python 3 (ipykernel)",
   "language": "python",
   "name": "python3"
  },
  "language_info": {
   "codemirror_mode": {
    "name": "ipython",
    "version": 3
   },
   "file_extension": ".py",
   "mimetype": "text/x-python",
   "name": "python",
   "nbconvert_exporter": "python",
   "pygments_lexer": "ipython3",
   "version": "3.9.7"
  }
 },
 "nbformat": 4,
 "nbformat_minor": 5
}
